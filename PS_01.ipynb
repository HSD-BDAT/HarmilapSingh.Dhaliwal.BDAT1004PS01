{
 "cells": [
  {
   "cell_type": "markdown",
   "id": "parental-hudson",
   "metadata": {},
   "source": [
    "---\n",
    "\n",
    "## BDAT 1004, Data Programming, Problem Set 01\n",
    "## Harmilap Singh Dhaliwal, 200465737\n",
    "\n",
    "---"
   ]
  },
  {
   "cell_type": "markdown",
   "id": "fluid-sector",
   "metadata": {},
   "source": [
    "# Question 1 C`#`\n",
    "\n",
    "What data type is each of the following?"
   ]
  },
  {
   "cell_type": "markdown",
   "id": "infrared-hobby",
   "metadata": {},
   "source": [
    "```C#\n",
    "Console.WriteLine(5.GetType());\n",
    "System.Int32\n",
    "```    "
   ]
  },
  {
   "cell_type": "code",
   "execution_count": 1,
   "id": "perceived-istanbul",
   "metadata": {},
   "outputs": [
    {
     "data": {
      "text/plain": [
       "list"
      ]
     },
     "execution_count": 1,
     "metadata": {},
     "output_type": "execute_result"
    }
   ],
   "source": [
    "type([5,2,1])"
   ]
  },
  {
   "cell_type": "markdown",
   "id": "respiratory-participant",
   "metadata": {},
   "source": [
    "I am using `.GetType()` function in C# to get type of data & `type()` in Python.\n",
    "\n",
    "|Data|Type|Remarks|\n",
    "|--------|----|-------|\n",
    "|`5`|**System.Int32**|\n",
    "|`5.0`|**System.Double**|\n",
    "|`5 > 1`|**System.Boolean**|\n",
    "|`'5'`|**System.Char**|**A 'string' in Python**|\n",
    "|`5 * 2`|**System.Int32**|\n",
    "|`'5' * 2`|**System.Int32**|**In Python it will give '55' a 'string'**|\n",
    "|`'5' + '2'`|**System.Int32**|**In Python it will give '52' a 'string'**|\n",
    "|`5/2`|**System.Int32**|**Will return 'float' in Python as result will be 2.5, in C# its 2 as both values are 'int'**|\n",
    "|`5//2`|**NA**|**'//' is not a C# operator, its a Python quotient operator, C# doesn't have an equivalent function, the type is 'int' in Python**|\n",
    "|`[5,2,1]`|**NA**|**C# doesn't have this syntax for any dataType, its a 'list' in Python**|\n",
    "|`5 in [1,4,6]`|**NA**|**Not applicable for C#, but it will give 'False' a 'boolean' dataType in Python as 5 is not in 'list'**|\n",
    "|`Math.PI`|**System.Double**|**math.pi**, math module in Python, output is float|\n"
   ]
  },
  {
   "cell_type": "markdown",
   "id": "reflected-cosmetic",
   "metadata": {},
   "source": [
    "---\n",
    "---\n",
    "# Question 2 C`#`\n",
    "\n",
    " Write (and evaluate) Python expressions that answer these questions\n",
    " \n",
    "**NOTE:** I am adding Python equivalent as well, as question is little ambiguous"
   ]
  },
  {
   "cell_type": "markdown",
   "id": "decreased-juvenile",
   "metadata": {},
   "source": [
    "#### C# code and output, this code runs in Jupyter notebook, need C# kernel though.\n",
    "\n",
    "- a.  How many letters are there in 'Supercalifragilisticexpialidocious'?  \n",
    "I am assuming letters mean letters only not characters.\n",
    "\n",
    "```C#\n",
    "string s = \"Supercalifragilisticexpialidocious\";\n",
    "var newstr = String.Join(\"\", s.Distinct());\n",
    "newstr.Length\n",
    "\n",
    "16\n",
    "```\n",
    "\n",
    "---\n",
    "\n",
    "- b.  Does 'Supercalifragilisticexpialidocious' contain 'ice' as a substring?\n",
    "\n",
    "```C#\n",
    "string s = \"Supercalifragilisticexpialidocious\";\n",
    "s.Contains(\"ice\")\n",
    "```\n",
    "**True**\n",
    "\n",
    "---\n",
    "\n",
    "- c. Which of the following words is the longest: Supercalifragilisticexpialidocious, Honorificabilitudinitatibus, or Bababadalgharaghtakamminarronnkonn?\n",
    "\n",
    "```C#\n",
    "string s1 = \"Supercalifragilisticexpialidocious\";\n",
    "string s2 = \"Honorificabilitudinitatibus\";\n",
    "string s3 = \"Bababadalgharaghtakamminarronnkonn\";\n",
    "\n",
    "Console.WriteLine(s1.Length);\n",
    "Console.WriteLine(s2.Length);\n",
    "Console.WriteLine(s3.Length);\n",
    "\n",
    "34\n",
    "27\n",
    "34    \n",
    "```\n",
    "Both **'Supercalifragilisticexpialidocious'** and **'Bababadalgharaghtakamminarronnkonn'** have same length with 34 characters.\n",
    "\n",
    "---\n",
    "\n",
    "- d. Which composer comes first in the dictionary: 'Berlioz', 'Borodin', 'Brian', 'Bartok', 'Bellini', 'Buxtehude', 'Bernstein'. Which one comes last?\n",
    "\n",
    "```C#\n",
    "/* Using Sorted Set dataType, which regardless of how we input data, \n",
    "will always sort the elements*/\n",
    "\n",
    "var composers = new SortedSet<string>();\n",
    "\n",
    "composers.Add(\"Berlioz\");\n",
    "composers.Add(\"Borodin\");\n",
    "composers.Add(\"Brian\"); // doesn't sound like a composer\n",
    "composers.Add(\"Bartok\");\n",
    "composers.Add(\"Bellini\");\n",
    "composers.Add(\"Buxtehude\");\n",
    "composers.Add(\"Bernstein\");\n",
    "\n",
    "// https://stackoverflow.com/questions/17277437/remove-first-element-from-sortedset-c-sharp\n",
    "Console.WriteLine(\"'{0}' comes first in the dictionary.\", composers.First());\n",
    "Console.WriteLine(\"'{0}' comes last in the dictionary.\", composers.Last());\n",
    "```\n",
    "**'Bartok'** comes first in the dictionary.  \n",
    "**'Buxtehude'** comes last in the dictionary.\n",
    "\n",
    "---"
   ]
  },
  {
   "cell_type": "code",
   "execution_count": 2,
   "id": "resistant-tunnel",
   "metadata": {},
   "outputs": [
    {
     "name": "stdout",
     "output_type": "stream",
     "text": [
      "Part A answer : 16\n",
      "Part B answer : True\n",
      "\n",
      "Part C\n",
      "'Supercalifragilisticexpialidocious' has 34 characters\n",
      "'Honorificabilitudinitatibus' has 27 characters\n",
      "'Bababadalgharaghtakamminarronnkonn' has 34 characters\n",
      "Words 1st and 3rd are equal and longest.\n",
      "\n",
      "Part D\n",
      "Bartok comes first in dictionary and Buxtehude comes last\n"
     ]
    }
   ],
   "source": [
    "# part a\n",
    "s = \"Supercalifragilisticexpialidocious\";\n",
    "print(\"Part A answer : {}\".format(len(list(set(s)))))\n",
    "\n",
    "# part b\n",
    "s = \"Supercalifragilisticexpialidocious\";\n",
    "print(\"Part B answer : {}\".format(\"ice\" in s))\n",
    "\n",
    "# part c\n",
    "s1 = \"Supercalifragilisticexpialidocious\"\n",
    "s2 = \"Honorificabilitudinitatibus\"\n",
    "s3 = \"Bababadalgharaghtakamminarronnkonn\"\n",
    "\n",
    "print(\"\\nPart C\")\n",
    "print(\"'{}' has {} characters\".format(s1, len(s1)))\n",
    "print(\"'{}' has {} characters\".format(s2, len(s2)))\n",
    "print(\"'{}' has {} characters\".format(s3, len(s3)))\n",
    "print(\"Words 1st and 3rd are equal and longest.\")\n",
    "\n",
    "# part d\n",
    "\n",
    "composers = [\"Berlioz\", \"Borodin\", \"Brian\", \"Bartok\", \"Bellini\", \"Buxtehude\", \"Bernstein\"]\n",
    "composers.sort()\n",
    "\n",
    "print(\"\\nPart D\")\n",
    "print(\"{} comes first in dictionary and {} comes last\".format(composers[0], composers[-1]))"
   ]
  },
  {
   "cell_type": "markdown",
   "id": "headed-argentina",
   "metadata": {},
   "source": [
    "---\n",
    "---\n",
    "\n",
    "# Question 3 C`#`\n",
    "\n",
    "Implement function triangleArea(a,b,c) that takes as input the lengths of the 3 sides of a triangle and returns the area of the triangle. By Heron's formula, the area of a triangle with side lengths a, b, and c is\n",
    "$\\sqrt{s(s - a)(s -b)(s -c)}$, where $s = \\frac{(a + b + c)}{2}$."
   ]
  },
  {
   "cell_type": "markdown",
   "id": "incorporate-stadium",
   "metadata": {},
   "source": [
    "```C#\n",
    "class TriangleArea\n",
    "{\n",
    "    public static void Area(double a, double b, double c)\n",
    "    {\n",
    "        double s = (a+b+c)/2.0; // 2.0, a float is required to divide and get correct result.\n",
    "        Console.WriteLine(Math.Sqrt(s*(s-a)*(s-b)*(s-c)));\n",
    "    }\n",
    "}\n",
    "\n",
    "TriangleArea.Area(2, 3, 2)\n",
    "1.984313483298443\n",
    "```    \n",
    "\n",
    "---\n",
    "---"
   ]
  },
  {
   "cell_type": "markdown",
   "id": "resistant-success",
   "metadata": {},
   "source": [
    "# Question 4 C`#`\n",
    "\n",
    "Write a program in C# to separate odd and even integers in separate arrays."
   ]
  },
  {
   "cell_type": "markdown",
   "id": "assumed-chapel",
   "metadata": {},
   "source": [
    "```C#\n",
    "int[] baseArray = {25, 47, 42, 56, 32};\n",
    "\n",
    "List<int> odd = new List<int> ();\n",
    "List<int> even = new List<int> ();\n",
    "\n",
    "foreach(int i in baseArray)\n",
    "{\n",
    "    if(i%2 == 1)    // odd if remainder is 1 when divided by 2\n",
    "    {\n",
    "        odd.Add(i); // https://stackoverflow.com/questions/202813/adding-values-to-a-c-sharp-array\n",
    "    }\n",
    "    else\n",
    "    {\n",
    "        even.Add(i);\n",
    "    }\n",
    "}\n",
    "int[] oddArray = odd.ToArray();\n",
    "int[] evenArray = even.ToArray();\n",
    "\n",
    "// https://stackoverflow.com/questions/16265247/printing-all-contents-of-array-in-c-sharp\n",
    "Console.WriteLine(\"The Even elements are: \\n [{0}]\", string.Join(\", \", evenArray));\n",
    "Console.WriteLine(\"The Odd elements are: \\n [{0}]\", string.Join(\", \", oddArray));\n",
    "```\n",
    "\n",
    "**The Even elements are:** \n",
    " [42, 56, 32]  \n",
    "**The Odd elements are:**\n",
    " [25, 47]\n",
    " \n",
    "---\n",
    "---"
   ]
  },
  {
   "cell_type": "markdown",
   "id": "difficult-adelaide",
   "metadata": {},
   "source": [
    "# Question 5 C`#`\n",
    "\n",
    "> a.  Write a function **inside(x,y,x1,y1,x2,y2)** that returns True or False depending on whether the point (x,y) lies in the rectangle with lower left corner (x1,y1) and upper right corner (x2,y2).\n",
    "\n",
    "```C#\n",
    ">>> inside(1, 1, 0, 0, 2, 3)\n",
    "    True\n",
    "    \n",
    ">>> inside(-1, -1, 0, 0, 2, 3)\n",
    "    False    \n",
    "```    "
   ]
  },
  {
   "cell_type": "markdown",
   "id": "exotic-closing",
   "metadata": {},
   "source": [
    "#### Solution\n",
    "```C#\n",
    "class InsideRectangle\n",
    "{\n",
    "    public static bool inside(double x, double y, double x1, double y1, double x2, double y2)\n",
    "    {\n",
    "        bool result = (x >= x1 && x<= x2) && (y >= y1 && x<= y2);\n",
    "        return(result);\n",
    "    }\n",
    "}\n",
    "\n",
    "Console.WriteLine(InsideRectangle.inside(1, 1, 0, 0, 2, 3));\n",
    "Console.WriteLine(InsideRectangle.inside(-1, -1, 0, 0, 2, 3));\n",
    "```\n",
    "**True**  \n",
    "**False**"
   ]
  },
  {
   "cell_type": "markdown",
   "id": "bulgarian-hello",
   "metadata": {},
   "source": [
    "> b. Use function inside() from part a. to write an expression that tests whether the point (1,1) lies in both of the following rectangles: one with lower left corner (0.3, 0.5) and upper right corner (1.1, 0.7) and the other with lower left corner (0.5, 0.2) and upper right corner (1.1, 2)."
   ]
  },
  {
   "cell_type": "markdown",
   "id": "electrical-logging",
   "metadata": {},
   "source": [
    "```C#\n",
    "bool firstRectangle = InsideRectangle.inside(1, 1, 0.3, 0.5, 1.1, 0.7);\n",
    "bool secondRectangle = InsideRectangle.inside(1, 1, 0.5, 0.2, 1.1, 2);\n",
    "\n",
    "Console.WriteLine(firstRectangle && secondRectangle);\n",
    "```\n",
    "**False**\n",
    "\n",
    "---\n",
    "---\n",
    "---"
   ]
  },
  {
   "cell_type": "markdown",
   "id": "optical-bracelet",
   "metadata": {},
   "source": [
    "# Question 6 Python\n",
    "\n",
    "You can turn a word into pig-Latin using the following two rules (simplified):\n",
    "- If the word starts with a consonant, move that letter to the end and append 'ay'. For example, 'happy' becomes 'appyhay' and 'pencil' becomes 'encilpay'.\n",
    "- If the word starts with a vowel, simply append 'way' to the end of the word. For example, 'enter' becomes 'enterway' and 'other' becomes 'otherway' . For our purposes, there are 5 vowels: a, e, i, o, u (so we count y as a consonant).\n",
    "\n",
    "Write a function pig() that takes a word (i.e., a string) as input and returns its pig-Latin form. Your function should still work if the input word contains upper case characters. Your output should always be lower case however.\n",
    "\n",
    "```Python\n",
    ">>> pig('happy')\n",
    "'appyhay'\n",
    ">>> pig('Enter')\n",
    "'enterway'\n",
    "```"
   ]
  },
  {
   "cell_type": "code",
   "execution_count": 3,
   "id": "statewide-ultimate",
   "metadata": {},
   "outputs": [
    {
     "name": "stdout",
     "output_type": "stream",
     "text": [
      "appyhay\n",
      "enterway\n"
     ]
    }
   ],
   "source": [
    "def pig(word):\n",
    "    vowels = ['a', 'e', 'i', 'o', 'u']\n",
    "    word = word.lower()                  # convert string to lowercase for uniformity\n",
    "    s1 = list(word)                      # convert string to list as string object is immutable\n",
    "    \n",
    "    # check if first letter is vowel or not and implement logic given in question statement \n",
    "    if(s1[0] not in vowels):\n",
    "        s2 = s1[1:] + [s1[0]] + ['ay']\n",
    "    else:\n",
    "        s2 = s1 + ['way']\n",
    "        \n",
    "    return(\"\".join(s2))                  # convert list back to string for output\n",
    "\n",
    "print(pig('happy'))\n",
    "print(pig('Enter'))"
   ]
  },
  {
   "cell_type": "markdown",
   "id": "meaningful-constitution",
   "metadata": {},
   "source": [
    "---\n",
    "---\n",
    "\n",
    "# Question 7 Python\n",
    "\n",
    "File bloodtype1.txt records blood-types of patients (A, B, AB, O or OO) at a clinic. Write a function bldcount() that reads the file with name name and reports (i.e., prints) how many patients there are in each bloodtype."
   ]
  },
  {
   "cell_type": "code",
   "execution_count": 4,
   "id": "portable-pattern",
   "metadata": {},
   "outputs": [
    {
     "name": "stdout",
     "output_type": "stream",
     "text": [
      "There are 15 patients of blood type A.\n",
      "There are 13 patients of blood type AB.\n",
      "There are 1 patients of blood type B.\n",
      "There are 15 patients of blood type O.\n"
     ]
    }
   ],
   "source": [
    "def bldcount(filename):\n",
    "    blood_file = open(filename, 'r')                           # opened connection to read data from the file\n",
    "    bloodtype = blood_file.readlines()                         # read the contents\n",
    "    blood_file.close()                                         # closed the connection to file\n",
    "\n",
    "    bloodtype = ''.join(bloodtype).split(' ')                  # converted to string to split elements on space\n",
    "    bloodtype.pop()                                            # removing '\\n' newline escape character\n",
    "\n",
    "    uniqueValues = list(set(bloodtype))                        # I used set to get unique values from a list\n",
    "    uniqueValues.sort()                                        # Sorting the list, not required\n",
    "\n",
    "    countList = []                                             # creating empty list which will be populated by our result\n",
    "\n",
    "    # We are using nested for loop for this solution which is not efficient\n",
    "    # outer loop iterates on Unique blood types ['A', 'AB', 'B', 'O']\n",
    "    for value in uniqueValues:\n",
    "        i = 0\n",
    "        # inner loop counts occurences of each bloodtype in our data, value of i increases by 1 when theres a match\n",
    "        for blood in bloodtype:\n",
    "            if(value == blood):\n",
    "                i += 1\n",
    "        countList.append(i)\n",
    "\n",
    "    for i in range(0, len(uniqueValues)):\n",
    "        print('There are {} patients of blood type {}.'.format(countList[i], uniqueValues[i]))\n",
    "        \n",
    "bldcount('input/bloodtype1.txt')                                     # checking if it outputs correctly"
   ]
  },
  {
   "cell_type": "markdown",
   "id": "quantitative-calgary",
   "metadata": {},
   "source": [
    "---\n",
    "---\n",
    "\n",
    "# Question 8 Python\n",
    "\n",
    "Write a function `curconv()` that takes as input:\n",
    "1. a currency represented using a string (e.g., 'JPY' for the Japanese Yen or 'EUR' for the Euro)\n",
    "2. an amount\n",
    "\n",
    "and then converts and returns the amount in US dollars."
   ]
  },
  {
   "cell_type": "code",
   "execution_count": 5,
   "id": "crude-notification",
   "metadata": {},
   "outputs": [
    {
     "name": "stdout",
     "output_type": "stream",
     "text": [
      "17.7643\n"
     ]
    }
   ],
   "source": [
    "curr_file = open('input/currencies.txt', 'r')           # opened connection to read data from the file\n",
    "currencies = curr_file.readlines()                      # read the contents\n",
    "curr_file.close() \n",
    "\n",
    "shortCurrencies, conversionValue = [], []\n",
    "for i in range(len(currencies)):\n",
    "    df = currencies[i].split('\\t')[0:2]                 # data is using 'tab' as delimiter, we only need shortName and value\n",
    "    shortCurrencies.append(df[0])\n",
    "    conversionValue.append(float(df[1]))\n",
    "\n",
    "# dictionary is recommended for consistency, or better dataFrame    \n",
    "def curconv(currency, amount):\n",
    "    indexCurrency = shortCurrencies.index(currency)     # getIndex of currency to get conversionValue from the list\n",
    "    print(conversionValue[indexCurrency] * amount)\n",
    "    \n",
    "curconv('INR', 1000)           "
   ]
  },
  {
   "cell_type": "markdown",
   "id": "cellular-consolidation",
   "metadata": {},
   "source": [
    "---\n",
    "---\n",
    "\n",
    "# Question 9 Python\n",
    "\n",
    "Each of the following will cause an exception (an error). Identify what type of exception each will cause."
   ]
  },
  {
   "cell_type": "markdown",
   "id": "accomplished-overhead",
   "metadata": {},
   "source": [
    "|No.|Operation|Exception|\n",
    "|---|---------|---------|\n",
    "|1|`6 + 'a'`|**TypeError**: unsupported operand type(s) for +: 'int' and 'str'|\n",
    "|2|`Referring to the 12th item of a list that has only 10 items`|**IndexError**: list index out of range|\n",
    "|3|`Using a value that is out of range for a function’s input, such as calling math.sqrt( 1.0)`|**ValueError**: math domain error|\n",
    "|4|`Using an undeclared variable, such as print(x) when x has not been defined`|**NameError**: name 'x' is not defined|\n",
    "|5|`Trying to open a file that does not exist, such as mistyping the file name or looking in the wrong directory.`|**FileNotFoundError**: [Errno 2] No such file or directory: 'abc.csv'|"
   ]
  },
  {
   "cell_type": "markdown",
   "id": "through-dodge",
   "metadata": {},
   "source": [
    "Trying to add incompatible variables, as in adding 6 + ‘a’\n",
    "\n",
    "> Exception  \n",
    "**TypeError**: unsupported operand type(s) for +: 'int' and 'str'\n",
    "\n",
    "```Python\n",
    "6 + 'a'\n",
    "```"
   ]
  },
  {
   "cell_type": "markdown",
   "id": "working-mixer",
   "metadata": {},
   "source": [
    "Referring to the 12th item of a list that has only 10 items\n",
    "\n",
    "> Exception  \n",
    "**IndexError**: list index out of range\n",
    "\n",
    "```Python\n",
    "list_10 = ['a'] * 10\n",
    "list_10[11]\n",
    "```"
   ]
  },
  {
   "cell_type": "markdown",
   "id": "alive-inventory",
   "metadata": {},
   "source": [
    "Using a value that is out of range for a function’s input, such as calling math.sqrt( 1.0)\n",
    "\n",
    "> Exception  \n",
    "**ValueError**: math domain error\n",
    "\n",
    "```Python\n",
    "import math\n",
    "math.sqrt(-1.0)\n",
    "```"
   ]
  },
  {
   "cell_type": "markdown",
   "id": "basic-keyboard",
   "metadata": {},
   "source": [
    "Using an undeclared variable, such as print(x) when x has not been defined\n",
    "\n",
    "> Exception  \n",
    "**NameError**: name 'x' is not defined\n",
    "\n",
    "```Python\n",
    "print(x)\n",
    "```"
   ]
  },
  {
   "cell_type": "markdown",
   "id": "familiar-entity",
   "metadata": {},
   "source": [
    "Trying to open a file that does not exist, such as mistyping the file name or looking in the wrong directory.\n",
    "\n",
    "> Exception  \n",
    "**FileNotFoundError**: [Errno 2] No such file or directory: 'abc.csv'\n",
    "\n",
    "```Python\n",
    "df = open(\"abc.csv\")\n",
    "```\n",
    "\n",
    "---\n",
    "---"
   ]
  },
  {
   "cell_type": "markdown",
   "id": "clean-literacy",
   "metadata": {},
   "source": [
    "# Question 10\n",
    "\n",
    "Encryption is the process of hiding the meaning of a text by substituting letters in the message with other letters, according to some system. If the process is successful, no one but the intended recipient can understand the encrypted message. *Cryptanalysis* refers to attempts to undo the encryption, even if some details of the encryption are unknown (for example, if an encrypted message has been intercepted). The first step of cryptanalysis is often to build up a table of letter frequencies in the encrypted text. Assume that the string letters is already defined as 'abcdefghijklmnopqrstuvwxyz'. Write a function called frequencies() that takes a string as its only parameter, and returns a list of integers, showing the number of times each character appears in the text. Your function may ignore any characters that are not in letters."
   ]
  },
  {
   "cell_type": "markdown",
   "id": "interracial-pontiac",
   "metadata": {},
   "source": [
    "```Python\n",
    ">>> frequencies('The quick red fox got bored and went home.')\n",
    "[1, 1, 1, 3, 5, 1, 1, 2, 1, 0, 1, 0, 1, 2, 4, 0, 1, 2, 0, 2, 1, 0, 1, 1, 0, 0]\n",
    ">>> frequencies('apple')\n",
    "```"
   ]
  },
  {
   "cell_type": "code",
   "execution_count": 6,
   "id": "phantom-singapore",
   "metadata": {},
   "outputs": [
    {
     "data": {
      "text/plain": [
       "[1, 1, 1, 3, 5, 1, 1, 2, 1, 0, 1, 0, 1, 2, 4, 0, 1, 2, 0, 3, 1, 0, 1, 1, 0, 0]"
      ]
     },
     "execution_count": 6,
     "metadata": {},
     "output_type": "execute_result"
    }
   ],
   "source": [
    "# This follows same  logic as Question 7\n",
    "def frequenices(inputString):\n",
    "    countList = []                                        # creating empty list which will be populated by our result\n",
    "    inputString = inputString.lower()\n",
    "    charactersSuperSet = 'abcdefghijklmnopqrstuvwxyz'\n",
    "    \n",
    "    # We are using nested for loop for this solution\n",
    "    # outer loop iterates on charactersSuperSet\n",
    "    for char in charactersSuperSet:\n",
    "        i = 0\n",
    "        # inner loop counts occurences of each letter in our data, value of i increases by 1 when there's a match\n",
    "        for s in inputString:\n",
    "            if(char == s):\n",
    "                i += 1\n",
    "        countList.append(i)\n",
    "    \n",
    "    return(countList)\n",
    "    \n",
    "frequenices('The quick red fox got bored and went home.')    "
   ]
  },
  {
   "cell_type": "code",
   "execution_count": 7,
   "id": "concerned-fence",
   "metadata": {},
   "outputs": [
    {
     "data": {
      "text/plain": [
       "[1, 0, 0, 0, 1, 0, 0, 0, 0, 0, 0, 1, 0, 0, 0, 2, 0, 0, 0, 0, 0, 0, 0, 0, 0, 0]"
      ]
     },
     "execution_count": 7,
     "metadata": {},
     "output_type": "execute_result"
    }
   ],
   "source": [
    "frequenices('apple')"
   ]
  }
 ],
 "metadata": {
  "kernelspec": {
   "display_name": "Python 3",
   "language": "python",
   "name": "python3"
  },
  "language_info": {
   "codemirror_mode": {
    "name": "ipython",
    "version": 3
   },
   "file_extension": ".py",
   "mimetype": "text/x-python",
   "name": "python",
   "nbconvert_exporter": "python",
   "pygments_lexer": "ipython3",
   "version": "3.8.5"
  }
 },
 "nbformat": 4,
 "nbformat_minor": 5
}
